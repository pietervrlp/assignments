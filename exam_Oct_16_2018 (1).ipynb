{
 "cells": [
  {
   "cell_type": "markdown",
   "metadata": {},
   "source": [
    "Before you turn this problem in, make sure everything runs as expected. First, **restart the kernel** (in the menubar, select Kernel$\\rightarrow$Restart) and then **run all cells** (in the menubar, select Cell$\\rightarrow$Run All).\n",
    "\n",
    "Make sure you fill in any place that says `YOUR CODE HERE` or \"YOUR ANSWER HERE\", as well as your name and collaborators below:"
   ]
  },
  {
   "cell_type": "code",
   "execution_count": 1,
   "metadata": {},
   "outputs": [],
   "source": [
    "NAME = \"Pieter Verloop, 2013830\"\n",
    "COLLABORATORS = \"\""
   ]
  },
  {
   "cell_type": "markdown",
   "metadata": {},
   "source": [
    "---"
   ]
  },
  {
   "cell_type": "markdown",
   "metadata": {
    "deletable": false,
    "editable": false,
    "nbgrader": {
     "checksum": "e53eb7da4b90cccdbeb5924177a0d295",
     "grade": false,
     "grade_id": "cell-bace731f185b39bb",
     "locked": true,
     "schema_version": 1,
     "solution": false
    }
   },
   "source": [
    "Fill in the cell above to provide us with your name and student number, like\n",
    "\n",
    "NAME = \"Adam Smith, #student number#\"\n",
    "\n",
    "where you replace \"#student number#\" with your ... (very good!)\n",
    "\n",
    "Unfortunately, you are not allowed to work with \"COLLABORATORS\" in this exam."
   ]
  },
  {
   "cell_type": "markdown",
   "metadata": {
    "deletable": false,
    "editable": false,
    "nbgrader": {
     "checksum": "a120222992207cf37e5d4d376f028c40",
     "grade": false,
     "grade_id": "cell-895e9a7b94992ec9",
     "locked": true,
     "schema_version": 1,
     "solution": false
    }
   },
   "source": [
    "# exam October 16th, 2018\n",
    "\n",
    "With this python part of the exam you can earn at max. 4 points.\n",
    "\n"
   ]
  },
  {
   "cell_type": "markdown",
   "metadata": {
    "deletable": false,
    "editable": false,
    "nbgrader": {
     "checksum": "71dc651357d194e487cc514d996391cc",
     "grade": false,
     "grade_id": "cell-540987818af25557",
     "locked": true,
     "schema_version": 1,
     "solution": false
    }
   },
   "source": [
    "\n",
    "In the first cell of the notebook, give us your name and student number in the way indicated above. \n",
    "\n",
    "Fill in the notebook (see below for code cells and text cells that you need to fill in).\n",
    "\n",
    "If you look at the menus above (File, Edit, View etc.), there is one called \"Cell\". If you click on this, you can change the \"Cell Type\". Choose \"Code\" when you are typing python or R code. Choose \"Markdown\" when you are typing, well, markdown.\n",
    "\n",
    "When you finish the notebook, make sure that you **save it with the output of your code included**. \n",
    "\n",
    "Then put it on github, e.g. by dragging it onto github (see instructions below). \n",
    "\n",
    "Finally, add a link to your README file with the name of this exam: \"Exam October 16, 2018\".\n",
    "\n"
   ]
  },
  {
   "cell_type": "raw",
   "metadata": {},
   "source": []
  },
  {
   "cell_type": "markdown",
   "metadata": {
    "deletable": false,
    "editable": false,
    "nbgrader": {
     "checksum": "481d5a8cba4bec2333f728993635d3d3",
     "grade": false,
     "grade_id": "cell-e1cf88cb799f1f43",
     "locked": true,
     "schema_version": 1,
     "solution": false
    }
   },
   "source": [
    "## Competition and number of firms\n",
    "\n",
    "We start by importing the usual libraries."
   ]
  },
  {
   "cell_type": "code",
   "execution_count": 3,
   "metadata": {
    "deletable": false,
    "editable": false,
    "nbgrader": {
     "checksum": "7bd770ef54db47c3b6c8d0e31f6baef6",
     "grade": false,
     "grade_id": "cell-b895769bf40e183a",
     "locked": true,
     "schema_version": 1,
     "solution": false
    }
   },
   "outputs": [],
   "source": [
    "import matplotlib.pyplot as plt\n",
    "import pandas as pd\n",
    "import numpy as np\n",
    "from scipy import optimize\n",
    "%matplotlib inline"
   ]
  },
  {
   "cell_type": "markdown",
   "metadata": {},
   "source": [
    "We consider a market with $n$ firms where $n$ can vary. The (inverse) demand function on this market is given by $p(Q)=1-Q$ and firms produce with the same cost function: $c(q)=0.1q$. "
   ]
  },
  {
   "cell_type": "code",
   "execution_count": 54,
   "metadata": {},
   "outputs": [],
   "source": [
    "def p(Q):\n",
    "    return 1-Q\n",
    "\n",
    "def c(q):\n",
    "    return 0.1*q"
   ]
  },
  {
   "cell_type": "markdown",
   "metadata": {
    "deletable": false,
    "editable": false,
    "nbgrader": {
     "checksum": "66ad412dc5db2ef36391c74c7db38a1a",
     "grade": false,
     "grade_id": "cell-83284c4090d6de8c",
     "locked": true,
     "schema_version": 1,
     "solution": false
    }
   },
   "source": [
    "#### a) [0.5 points] Explain in words what the following code does. In particular, why is this the best response of a firm if its competitors produce $Q$ in total? What does \"0,1\" at the end of the `fminbound` statement mean?"
   ]
  },
  {
   "cell_type": "code",
   "execution_count": 55,
   "metadata": {
    "deletable": false,
    "editable": false,
    "nbgrader": {
     "checksum": "d94ba6a45073c3f0a3ee7a7a08659128",
     "grade": false,
     "grade_id": "cell-7770128c0a989c60",
     "locked": true,
     "schema_version": 1,
     "solution": false
    }
   },
   "outputs": [],
   "source": [
    "def Best_response(Q):\n",
    "    q = optimize.fminbound(lambda x: -(p(x+Q)*x-c(x)),0,1)\n",
    "    return q"
   ]
  },
  {
   "cell_type": "markdown",
   "metadata": {
    "deletable": false,
    "nbgrader": {
     "checksum": "cae5873581f8c1e95ad12b5596742e37",
     "grade": true,
     "grade_id": "cell-8a5761555a34b60b",
     "locked": false,
     "points": 0.5,
     "schema_version": 1,
     "solution": true
    }
   },
   "source": [
    "The two functions at the beginning are substituted, so the variable q that is left can roll out. Here, the q is optimized. \n",
    "Because every firm has the same cost function, the total revenue minus the total cost will be the total profit. The q will roll out for the maximum profit with this function.\n",
    "The 0 states that we do not want python to show us the full output, so full output = 0. The 1 is the display we want, which will be only one answer, the q for."
   ]
  },
  {
   "cell_type": "markdown",
   "metadata": {
    "deletable": false,
    "editable": false,
    "nbgrader": {
     "checksum": "0533fff8707c3e48f51f030c54a65cfc",
     "grade": false,
     "grade_id": "cell-1a9c57d4d1fc34dc",
     "locked": true,
     "schema_version": 1,
     "solution": false
    }
   },
   "source": [
    "The following cell calculates the fixed point for a symmetric equilibrium: if each firm produces $q$ then $q$ should be the best respons to the other firms producing $Q=(n-1)q$ together."
   ]
  },
  {
   "cell_type": "code",
   "execution_count": 56,
   "metadata": {
    "deletable": false,
    "editable": false,
    "nbgrader": {
     "checksum": "c5e796ee2d862918c9de470024afce08",
     "grade": false,
     "grade_id": "cell-d33704e6e42e5387",
     "locked": true,
     "schema_version": 1,
     "solution": false
    }
   },
   "outputs": [],
   "source": [
    "def fixed_point(q,n):\n",
    "    return q-Best_response((n-1)*q)"
   ]
  },
  {
   "cell_type": "markdown",
   "metadata": {
    "deletable": false,
    "editable": false,
    "nbgrader": {
     "checksum": "caa9cc074f728a69accfbc1cd8979c41",
     "grade": false,
     "grade_id": "cell-3b8ee172d9950128",
     "locked": true,
     "schema_version": 1,
     "solution": false
    }
   },
   "source": [
    "#### b) [1 point] Define a function `output(n)` that gives each firm's output level as a function of the number of firms in the market.\n",
    "\n",
    "[hint: you need to \"solve\" `fixed_point` as a function of `q`, for a given `n`; use one of the numerical solvers that we used in class]"
   ]
  },
  {
   "cell_type": "code",
   "execution_count": 65,
   "metadata": {
    "deletable": false,
    "nbgrader": {
     "checksum": "e215045e9aec84c2b159f10a36170bca",
     "grade": true,
     "grade_id": "cell-a5e7853f661e19b2",
     "locked": false,
     "points": 1,
     "schema_version": 1,
     "solution": true
    }
   },
   "outputs": [],
   "source": [
    "def output(n):\n",
    "    return 0.9/n\n"
   ]
  },
  {
   "cell_type": "markdown",
   "metadata": {},
   "source": [
    "If you cannot solve b) then use the following function for the remainder of this exam:\n",
    "\n",
    "`def output(n):\n",
    "    return 0.9/n`"
   ]
  },
  {
   "cell_type": "markdown",
   "metadata": {
    "deletable": false,
    "editable": false,
    "nbgrader": {
     "checksum": "667f97c51b4d61b0654a30c4f1b3aca4",
     "grade": false,
     "grade_id": "cell-4b33762aa4a601fe",
     "locked": true,
     "schema_version": 1,
     "solution": false
    }
   },
   "source": [
    "#### c) [0.5 points] Explain line by line what the following code does. \n",
    "\n",
    "[hint: do not worry if you get a \"RuntimeWarning\"]"
   ]
  },
  {
   "cell_type": "code",
   "execution_count": 66,
   "metadata": {
    "deletable": false,
    "editable": false,
    "nbgrader": {
     "checksum": "a9fa324f75f4133abcdd86de5742dbb1",
     "grade": false,
     "grade_id": "cell-5ee215676b91f504",
     "locked": true,
     "schema_version": 1,
     "solution": false
    }
   },
   "outputs": [],
   "source": [
    "range_n = np.arange(1,101,1)\n",
    "outputs = [output(n) for n in range_n]\n",
    "\n",
    "df = pd.DataFrame({'n':range_n, 'q':outputs})"
   ]
  },
  {
   "cell_type": "markdown",
   "metadata": {
    "deletable": false,
    "nbgrader": {
     "checksum": "32ef4666d442e453cb46bff6aedd254a",
     "grade": true,
     "grade_id": "cell-87bcbb40d70951cd",
     "locked": false,
     "points": 0.5,
     "schema_version": 1,
     "solution": true
    }
   },
   "source": [
    "A list has been generated of n values between 1 and 100, with a step of 1, which is called 'range_n.\n",
    "Within this list the return of the output(n) is called 'outputs'.\n",
    "The dataframe of the above is called 'df'.\n"
   ]
  },
  {
   "cell_type": "markdown",
   "metadata": {
    "deletable": false,
    "editable": false,
    "nbgrader": {
     "checksum": "25aacf969bdbb884cf23e10c0438fd74",
     "grade": false,
     "grade_id": "cell-6c4db6792f1fbdce",
     "locked": true,
     "schema_version": 1,
     "solution": false
    }
   },
   "source": [
    "#### d) [0.5 points] Plot output per firm $q$ as a function of the number of firms $n$. Put labels on both the horizontal and vertical axes to explain what they show."
   ]
  },
  {
   "cell_type": "code",
   "execution_count": 68,
   "metadata": {
    "deletable": false,
    "nbgrader": {
     "checksum": "58c8958d68d31fe681816dfa548dfd74",
     "grade": true,
     "grade_id": "cell-95da004cd36c6f96",
     "locked": false,
     "points": 0.5,
     "schema_version": 1,
     "solution": true
    }
   },
   "outputs": [
    {
     "data": {
      "image/png": "[encoded data removed]",
      "text/plain": [
       "<matplotlib.figure.Figure at 0x7f82910d1cf8>"
      ]
     },
     "metadata": {},
     "output_type": "display_data"
    }
   ],
   "source": [
    "plt.plot(range_n,outputs, label = \"output(n)=0.9/n\")\n",
    "plt.xlabel('number of firms')\n",
    "plt.ylabel('production per firm')\n",
    "plt.legend()\n",
    "plt.title(\"Output per firm as a fuction of the number of firms\")\n",
    "plt.show()"
   ]
  },
  {
   "cell_type": "markdown",
   "metadata": {
    "deletable": false,
    "editable": false,
    "nbgrader": {
     "checksum": "dec7cd835c071c7605a8352487410b18",
     "grade": false,
     "grade_id": "cell-3cc076ae39753881",
     "locked": true,
     "schema_version": 1,
     "solution": false
    }
   },
   "source": [
    "#### e) [0.5 point] Create two new columns for the dataframe `df`: (i) a column `Q` with total equilibrium output in the industry $Q=n*q$ and (ii) a column `p` with the equilibrium price."
   ]
  },
  {
   "cell_type": "code",
   "execution_count": 83,
   "metadata": {
    "deletable": false,
    "nbgrader": {
     "checksum": "6ac5f7f87f79a5a580298b70eb6603c6",
     "grade": true,
     "grade_id": "cell-0f18e4fded25833f",
     "locked": false,
     "points": 0.5,
     "schema_version": 1,
     "solution": true
    }
   },
   "outputs": [
    {
     "name": "stdout",
     "output_type": "stream",
     "text": [
      "      n         q    Q    p\n",
      "0     1  0.900000  0.9  0.1\n",
      "1     2  0.450000  0.9  0.1\n",
      "2     3  0.300000  0.9  0.1\n",
      "3     4  0.225000  0.9  0.1\n",
      "4     5  0.180000  0.9  0.1\n",
      "5     6  0.150000  0.9  0.1\n",
      "6     7  0.128571  0.9  0.1\n",
      "7     8  0.112500  0.9  0.1\n",
      "8     9  0.100000  0.9  0.1\n",
      "9    10  0.090000  0.9  0.1\n",
      "10   11  0.081818  0.9  0.1\n",
      "11   12  0.075000  0.9  0.1\n",
      "12   13  0.069231  0.9  0.1\n",
      "13   14  0.064286  0.9  0.1\n",
      "14   15  0.060000  0.9  0.1\n",
      "15   16  0.056250  0.9  0.1\n",
      "16   17  0.052941  0.9  0.1\n",
      "17   18  0.050000  0.9  0.1\n",
      "18   19  0.047368  0.9  0.1\n",
      "19   20  0.045000  0.9  0.1\n",
      "20   21  0.042857  0.9  0.1\n",
      "21   22  0.040909  0.9  0.1\n",
      "22   23  0.039130  0.9  0.1\n",
      "23   24  0.037500  0.9  0.1\n",
      "24   25  0.036000  0.9  0.1\n",
      "25   26  0.034615  0.9  0.1\n",
      "26   27  0.033333  0.9  0.1\n",
      "27   28  0.032143  0.9  0.1\n",
      "28   29  0.031034  0.9  0.1\n",
      "29   30  0.030000  0.9  0.1\n",
      "..  ...       ...  ...  ...\n",
      "70   71  0.012676  0.9  0.1\n",
      "71   72  0.012500  0.9  0.1\n",
      "72   73  0.012329  0.9  0.1\n",
      "73   74  0.012162  0.9  0.1\n",
      "74   75  0.012000  0.9  0.1\n",
      "75   76  0.011842  0.9  0.1\n",
      "76   77  0.011688  0.9  0.1\n",
      "77   78  0.011538  0.9  0.1\n",
      "78   79  0.011392  0.9  0.1\n",
      "79   80  0.011250  0.9  0.1\n",
      "80   81  0.011111  0.9  0.1\n",
      "81   82  0.010976  0.9  0.1\n",
      "82   83  0.010843  0.9  0.1\n",
      "83   84  0.010714  0.9  0.1\n",
      "84   85  0.010588  0.9  0.1\n",
      "85   86  0.010465  0.9  0.1\n",
      "86   87  0.010345  0.9  0.1\n",
      "87   88  0.010227  0.9  0.1\n",
      "88   89  0.010112  0.9  0.1\n",
      "89   90  0.010000  0.9  0.1\n",
      "90   91  0.009890  0.9  0.1\n",
      "91   92  0.009783  0.9  0.1\n",
      "92   93  0.009677  0.9  0.1\n",
      "93   94  0.009574  0.9  0.1\n",
      "94   95  0.009474  0.9  0.1\n",
      "95   96  0.009375  0.9  0.1\n",
      "96   97  0.009278  0.9  0.1\n",
      "97   98  0.009184  0.9  0.1\n",
      "98   99  0.009091  0.9  0.1\n",
      "99  100  0.009000  0.9  0.1\n",
      "\n",
      "[100 rows x 4 columns]\n"
     ]
    }
   ],
   "source": [
    "df['Q'] = df['n']*df['q']\n",
    "df['p'] = 1-df['Q']\n",
    "print(df)"
   ]
  },
  {
   "cell_type": "markdown",
   "metadata": {
    "deletable": false,
    "editable": false,
    "nbgrader": {
     "checksum": "63f16cd3100c595d2f5ad2b2686e04e7",
     "grade": false,
     "grade_id": "cell-9847a5147fc6bc0b",
     "locked": true,
     "schema_version": 1,
     "solution": false
    }
   },
   "source": [
    "#### f) [0.5 points] Make a new plot, this time with price as a function of the number of firms."
   ]
  },
  {
   "cell_type": "code",
   "execution_count": 87,
   "metadata": {
    "deletable": false,
    "nbgrader": {
     "checksum": "d9385c965608e0babffe255a7d375e19",
     "grade": true,
     "grade_id": "cell-6c036cfb38c024d3",
     "locked": false,
     "points": 0.5,
     "schema_version": 1,
     "solution": true
    }
   },
   "outputs": [
    {
     "data": {
      "image/png": "[encoded data removed]",
      "text/plain": [
       "<matplotlib.figure.Figure at 0x7f82910fed68>"
      ]
     },
     "metadata": {},
     "output_type": "display_data"
    }
   ],
   "source": [
    "plt.plot(range_n,outputs, label = \"output(n)=0.9/n\")\n",
    "plt.plot(df['p'], label = \"price\")\n",
    "plt.xlabel('number of firms')\n",
    "plt.ylabel('production per firm')\n",
    "plt.legend()\n",
    "plt.title(\"Equilibrium of the price and the output\")\n",
    "plt.show()"
   ]
  },
  {
   "cell_type": "markdown",
   "metadata": {
    "deletable": false,
    "editable": false,
    "nbgrader": {
     "checksum": "5e55fc661d4878877ae0fe32297169b2",
     "grade": false,
     "grade_id": "cell-62ba6216d71df5b1",
     "locked": true,
     "schema_version": 1,
     "solution": false
    }
   },
   "source": [
    "#### g) [0.5 points] As the number of firms becomes larger (goes to infinity) to which value does $p$ converge? Why is this the case; i.e. what is the *economic* intuition for this?"
   ]
  },
  {
   "cell_type": "markdown",
   "metadata": {
    "deletable": false,
    "nbgrader": {
     "checksum": "c383ae33c703af49f3c6c3da0de5a5de",
     "grade": true,
     "grade_id": "cell-540f086f98c73334",
     "locked": false,
     "points": 0.5,
     "schema_version": 1,
     "solution": true
    }
   },
   "source": [
    "The market will be a full competition market. A single firm doesn't affect the price by himself, because his market capitulation is very small. He will only be able to choose his production."
   ]
  },
  {
   "cell_type": "markdown",
   "metadata": {},
   "source": [
    "## Github\n",
    "\n",
    "After you have finished, we need to upload this notebook on github."
   ]
  },
  {
   "cell_type": "markdown",
   "metadata": {},
   "source": [
    "Instructions on how to upload this on github can be found [on this page](http://janboone.github.io/programming-for-economists/github.html). This page has two screencasts: one shows how to drag the notebook onto your github page, the other shows how you can use the command line to upload your notebook.\n"
   ]
  },
  {
   "cell_type": "markdown",
   "metadata": {},
   "source": [
    "Remember to update the README file in your repository to include a link to this notebook on github.\n",
    "\n",
    "\n",
    "The links that you should post start with “github.com/” and are NOT of the form “http://localhost”. Make sure you test your links after uploading."
   ]
  },
  {
   "cell_type": "code",
   "execution_count": null,
   "metadata": {},
   "outputs": [],
   "source": []
  }
 ],
 "metadata": {
  "anaconda-cloud": {},
  "kernelspec": {
   "display_name": "Python 3",
   "language": "python",
   "name": "python3"
  },
  "language_info": {
   "codemirror_mode": {
    "name": "ipython",
    "version": 3
   },
   "file_extension": ".py",
   "mimetype": "text/x-python",
   "name": "python",
   "nbconvert_exporter": "python",
   "pygments_lexer": "ipython3",
   "version": "3.5.3"
  }
 },
 "nbformat": 4,
 "nbformat_minor": 1
}
